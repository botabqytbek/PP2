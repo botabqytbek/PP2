{
 "cells": [
  {
   "cell_type": "code",
   "execution_count": 21,
   "id": "c6b73802-6ad3-48fd-9db7-22e69455c73d",
   "metadata": {},
   "outputs": [
    {
     "name": "stdout",
     "output_type": "stream",
     "text": [
      "                                        DN Description   Speed  MTU\n",
      "topology/pod-1/node-201/sys/phys-[eth1/33]             inherit 9150\n",
      "topology/pod-1/node-201/sys/phys-[eth1/34]             inherit 9150\n",
      "topology/pod-1/node-201/sys/phys-[eth1/35]             inherit 9150\n",
      "topology/pod-1/node-201/sys/phys-[eth1/36]             inherit 9150\n",
      " topology/pod-1/node-201/sys/phys-[eth1/1]             inherit 9150\n",
      " topology/pod-1/node-201/sys/phys-[eth1/2]             inherit 9150\n",
      " topology/pod-1/node-201/sys/phys-[eth1/3]             inherit 9150\n",
      " topology/pod-1/node-201/sys/phys-[eth1/4]             inherit 9150\n",
      " topology/pod-1/node-201/sys/phys-[eth1/5]             inherit 9150\n",
      " topology/pod-1/node-201/sys/phys-[eth1/6]             inherit 9150\n",
      " topology/pod-1/node-201/sys/phys-[eth1/7]             inherit 9150\n",
      " topology/pod-1/node-201/sys/phys-[eth1/8]             inherit 9150\n",
      " topology/pod-1/node-201/sys/phys-[eth1/9]             inherit 9150\n",
      "topology/pod-1/node-201/sys/phys-[eth1/10]             inherit 9150\n",
      "topology/pod-1/node-201/sys/phys-[eth1/11]             inherit 9150\n",
      "topology/pod-1/node-201/sys/phys-[eth1/12]             inherit 9150\n",
      "topology/pod-1/node-201/sys/phys-[eth1/13]             inherit 9150\n",
      "topology/pod-1/node-201/sys/phys-[eth1/14]             inherit 9150\n"
     ]
    }
   ],
   "source": [
    "\n",
    "file_path = \"/Users/akbota/Downloads/sample-data-2.json\"\n",
    "with open(file_path, \"r\") as file:\n",
    "    data = json.load(file)\n",
    "interfaces = []\n",
    "for item in data.get(\"imdata\", []):\n",
    "    attributes = item.get(\"l1PhysIf\", {}).get(\"attributes\", {})\n",
    "    dn = attributes.get(\"dn\", \"\")\n",
    "    description = attributes.get(\"descr\", \"\")\n",
    "    speed = attributes.get(\"speed\", \"inherit\")\n",
    "    mtu = attributes.get(\"mtu\", \"9150\")\n",
    "    interfaces.append([dn, description, speed, mtu])\n",
    "df = pd.DataFrame(interfaces, columns=[\"DN\", \"Description\", \"Speed\", \"MTU\"])\n",
    "print(df.to_string(index=False))"
   ]
  },
  {
   "cell_type": "code",
   "execution_count": null,
   "id": "404167cb-3418-4673-8fde-5ae15ea6638b",
   "metadata": {},
   "outputs": [],
   "source": []
  }
 ],
 "metadata": {
  "kernelspec": {
   "display_name": "Python [conda env:base] *",
   "language": "python",
   "name": "conda-base-py"
  },
  "language_info": {
   "codemirror_mode": {
    "name": "ipython",
    "version": 3
   },
   "file_extension": ".py",
   "mimetype": "text/x-python",
   "name": "python",
   "nbconvert_exporter": "python",
   "pygments_lexer": "ipython3",
   "version": "3.12.7"
  }
 },
 "nbformat": 4,
 "nbformat_minor": 5
}
